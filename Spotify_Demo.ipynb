{
 "cells": [
  {
   "cell_type": "code",
   "execution_count": 2,
   "id": "9669ba70-c0ba-485b-bee4-3c61177b238d",
   "metadata": {
    "collapsed": true,
    "jupyter": {
     "outputs_hidden": true
    },
    "tags": []
   },
   "outputs": [
    {
     "name": "stdout",
     "output_type": "stream",
     "text": [
      "Requirement already satisfied: spotipy in /opt/anaconda3/lib/python3.9/site-packages (2.19.0)\n",
      "Requirement already satisfied: urllib3>=1.26.0 in /opt/anaconda3/lib/python3.9/site-packages (from spotipy) (1.26.7)\n",
      "Requirement already satisfied: six>=1.15.0 in /opt/anaconda3/lib/python3.9/site-packages (from spotipy) (1.16.0)\n",
      "Requirement already satisfied: requests>=2.25.0 in /opt/anaconda3/lib/python3.9/site-packages (from spotipy) (2.26.0)\n",
      "Requirement already satisfied: certifi>=2017.4.17 in /opt/anaconda3/lib/python3.9/site-packages (from requests>=2.25.0->spotipy) (2021.10.8)\n",
      "Requirement already satisfied: charset-normalizer~=2.0.0 in /opt/anaconda3/lib/python3.9/site-packages (from requests>=2.25.0->spotipy) (2.0.4)\n",
      "Requirement already satisfied: idna<4,>=2.5 in /opt/anaconda3/lib/python3.9/site-packages (from requests>=2.25.0->spotipy) (3.2)\n"
     ]
    }
   ],
   "source": [
    "!pip install spotipy\n",
    "\n",
    "import spotipy\n",
    "from spotipy.oauth2 import SpotifyOAuth\n",
    "from spotipy.oauth2 import SpotifyClientCredentials\n",
    "\n",
    "scope = \"user-library-read\"\n",
    "SPOTIPY_CLIENT_ID = 'SPOTIPY_CLIENT_ID HERE'\n",
    "SPOTIPY_CLIENT_SECRET = 'SPOTIPY_CLIENT_SECRET HERE'\n",
    "SPOTIPY_REDIRECT_URI = 'SPOTIPY_REDIRECT_URI HERE'\n",
    "\n",
    "import spotipy\n",
    "import pandas as pd\n",
    "\n",
    "auth_manager = SpotifyClientCredentials(SPOTIPY_CLIENT_ID, SPOTIPY_CLIENT_SECRET, SPOTIPY_REDIRECT_URI, scope)\n",
    "sp = spotipy.Spotify(auth_manager=SpotifyOAuth(client_id=SPOTIPY_CLIENT_ID, client_secret=SPOTIPY_CLIENT_SECRET, redirect_uri=SPOTIPY_REDIRECT_URI, scope=scope))"
   ]
  },
  {
   "cell_type": "code",
   "execution_count": 3,
   "id": "425169a4-4fa4-41dd-8716-d66575ec02f4",
   "metadata": {},
   "outputs": [],
   "source": [
    "Playlists = pd.read_csv('/Users/kyle.haas/Desktop/School/Spotify Research/Playlist Log - Thesis - Sheet1.csv', index_col='Year')"
   ]
  },
  {
   "cell_type": "code",
   "execution_count": 1,
   "id": "ba50b3a4-3cfb-403c-9558-327816556d7d",
   "metadata": {
    "collapsed": true,
    "jupyter": {
     "outputs_hidden": true
    },
    "tags": []
   },
   "outputs": [
    {
     "ename": "NameError",
     "evalue": "name 'sp' is not defined",
     "output_type": "error",
     "traceback": [
      "\u001b[0;31m---------------------------------------------------------------------------\u001b[0m",
      "\u001b[0;31mNameError\u001b[0m                                 Traceback (most recent call last)",
      "\u001b[0;32m/var/folders/mk/6mhv217x3bl7n34zghth1cz00000gp/T/ipykernel_31224/1266356258.py\u001b[0m in \u001b[0;36m<module>\u001b[0;34m\u001b[0m\n\u001b[1;32m      1\u001b[0m \u001b[0;32mimport\u001b[0m \u001b[0mtime\u001b[0m\u001b[0;34m\u001b[0m\u001b[0;34m\u001b[0m\u001b[0m\n\u001b[1;32m      2\u001b[0m \u001b[0;34m\u001b[0m\u001b[0m\n\u001b[0;32m----> 3\u001b[0;31m \u001b[0mlist1\u001b[0m \u001b[0;34m=\u001b[0m \u001b[0msp\u001b[0m\u001b[0;34m.\u001b[0m\u001b[0mplaylist_items\u001b[0m\u001b[0;34m(\u001b[0m\u001b[0;34m'4NAZm2WSC3uBQbVC5Zsk2U'\u001b[0m\u001b[0;34m,\u001b[0m \u001b[0mfields\u001b[0m \u001b[0;34m=\u001b[0m \u001b[0;34m\"items(track(id))\"\u001b[0m\u001b[0;34m)\u001b[0m\u001b[0;34m\u001b[0m\u001b[0;34m\u001b[0m\u001b[0m\n\u001b[0m\u001b[1;32m      4\u001b[0m \u001b[0;34m\u001b[0m\u001b[0m\n\u001b[1;32m      5\u001b[0m \u001b[0mlist2\u001b[0m \u001b[0;34m=\u001b[0m \u001b[0mlist1\u001b[0m\u001b[0;34m[\u001b[0m\u001b[0;34m'items'\u001b[0m\u001b[0;34m]\u001b[0m\u001b[0;34m\u001b[0m\u001b[0;34m\u001b[0m\u001b[0m\n",
      "\u001b[0;31mNameError\u001b[0m: name 'sp' is not defined"
     ]
    }
   ],
   "source": [
    "import time\n",
    "\n",
    "list1 = sp.playlist_items('PLAYLIST ID HERE', fields = \"items(track(id))\")\n",
    "\n",
    "list2 = list1['items']\n",
    "\n",
    "list3 = []\n",
    "\n",
    "for entry in list2:\n",
    "    list3.append(entry['track']['id'])\n",
    "\n",
    "df = pd.DataFrame ()\n",
    "\n",
    "for entry in list3:\n",
    "    df=df.append(sp.audio_features(entry))\n",
    "    time.sleep(3)\n",
    "    \n",
    "df.set_index('id', inplace=True)"
   ]
  },
  {
   "cell_type": "code",
   "execution_count": null,
   "id": "0f69c566-dd34-4253-8c00-9b80cf855f28",
   "metadata": {},
   "outputs": [],
   "source": []
  }
 ],
 "metadata": {
  "kernelspec": {
   "display_name": "Python 3 (ipykernel)",
   "language": "python",
   "name": "python3"
  },
  "language_info": {
   "codemirror_mode": {
    "name": "ipython",
    "version": 3
   },
   "file_extension": ".py",
   "mimetype": "text/x-python",
   "name": "python",
   "nbconvert_exporter": "python",
   "pygments_lexer": "ipython3",
   "version": "3.9.7"
  }
 },
 "nbformat": 4,
 "nbformat_minor": 5
}
