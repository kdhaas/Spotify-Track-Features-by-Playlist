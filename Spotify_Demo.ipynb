{
 "cells": [
  {
   "cell_type": "code",
   "execution_count": null,
   "id": "9669ba70-c0ba-485b-bee4-3c61177b238d",
   "metadata": {
    "tags": []
   },
   "outputs": [],
   "source": [
    "!pip install spotipy\n",
    "\n",
    "import spotipy\n",
    "from spotipy.oauth2 import SpotifyOAuth\n",
    "from spotipy.oauth2 import SpotifyClientCredentials\n",
    "\n",
    "scope = \"user-library-read\"\n",
    "SPOTIPY_CLIENT_ID = 'SPOTIPY_CLIENT_ID HERE'\n",
    "SPOTIPY_CLIENT_SECRET = 'SPOTIPY_CLIENT_SECRET HERE'\n",
    "SPOTIPY_REDIRECT_URI = 'SPOTIPY_REDIRECT_URI HERE'\n",
    "\n",
    "import spotipy\n",
    "import pandas as pd\n",
    "\n",
    "auth_manager = SpotifyClientCredentials(SPOTIPY_CLIENT_ID, SPOTIPY_CLIENT_SECRET, SPOTIPY_REDIRECT_URI, scope)\n",
    "sp = spotipy.Spotify(auth_manager=SpotifyOAuth(client_id=SPOTIPY_CLIENT_ID, client_secret=SPOTIPY_CLIENT_SECRET, redirect_uri=SPOTIPY_REDIRECT_URI, scope=scope))"
   ]
  },
  {
   "cell_type": "code",
   "execution_count": null,
   "id": "425169a4-4fa4-41dd-8716-d66575ec02f4",
   "metadata": {},
   "outputs": [],
   "source": [
    "Playlists = pd.read_csv('/Users/kyle.haas/Desktop/School/Spotify Research/Playlist Log - Thesis - Sheet1.csv', index_col='Year')"
   ]
  },
  {
   "cell_type": "code",
   "execution_count": null,
   "id": "ba50b3a4-3cfb-403c-9558-327816556d7d",
   "metadata": {
    "tags": []
   },
   "outputs": [],
   "source": [
    "import time\n",
    "\n",
    "list1 = sp.playlist_items('PLAYLIST ID HERE', fields = \"items(track(id))\")\n",
    "\n",
    "list2 = list1['items']\n",
    "\n",
    "list3 = []\n",
    "\n",
    "for entry in list2:\n",
    "    list3.append(entry['track']['id'])\n",
    "\n",
    "df = pd.DataFrame ()\n",
    "\n",
    "for entry in list3:\n",
    "    df=df.append(sp.audio_features(entry))\n",
    "    time.sleep(3)\n",
    "    \n",
    "df.set_index('id', inplace=True)"
   ]
  },
  {
   "cell_type": "code",
   "execution_count": null,
   "id": "0f69c566-dd34-4253-8c00-9b80cf855f28",
   "metadata": {},
   "outputs": [],
   "source": []
  }
 ],
 "metadata": {
  "kernelspec": {
   "display_name": "Python 3 (ipykernel)",
   "language": "python",
   "name": "python3"
  },
  "language_info": {
   "codemirror_mode": {
    "name": "ipython",
    "version": 3
   },
   "file_extension": ".py",
   "mimetype": "text/x-python",
   "name": "python",
   "nbconvert_exporter": "python",
   "pygments_lexer": "ipython3",
   "version": "3.9.7"
  }
 },
 "nbformat": 4,
 "nbformat_minor": 5
}
